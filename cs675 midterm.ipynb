{
 "cells": [
  {
   "cell_type": "markdown",
   "id": "3cdc6cc3",
   "metadata": {},
   "source": [
    "<h3>1. Import Librarys</h3>"
   ]
  },
  {
   "cell_type": "code",
   "execution_count": 1,
   "id": "58579d96",
   "metadata": {},
   "outputs": [
    {
     "data": {
      "text/plain": [
       "<Figure size 1296x720 with 0 Axes>"
      ]
     },
     "metadata": {},
     "output_type": "display_data"
    }
   ],
   "source": [
    "from sklearn.model_selection import train_test_split\n",
    "from sklearn.metrics import explained_variance_score\n",
    "from sklearn.linear_model import LinearRegression\n",
    "from sklearn.preprocessing import LabelEncoder\n",
    "from sklearn.metrics import mean_squared_error\n",
    "from sklearn.impute import SimpleImputer\n",
    "from sklearn.impute import KNNImputer\n",
    "from sklearn import preprocessing\n",
    "import matplotlib.pyplot as plt\n",
    "import seaborn as sns\n",
    "import pandas as pd\n",
    "import numpy as np\n",
    "import graphviz\n",
    "import os\n",
    "os.environ[\"PATH\"] += os.pathsep + 'C:/Program Files/Graphviz/bin/'\n",
    "%matplotlib inline\n",
    "fig = plt.figure(figsize = (18,10))"
   ]
  },
  {
   "cell_type": "markdown",
   "id": "9365c7b4",
   "metadata": {},
   "source": [
    "<h3>2. Import data sets</h3>"
   ]
  },
  {
   "cell_type": "code",
   "execution_count": 2,
   "id": "899aa5a9",
   "metadata": {},
   "outputs": [],
   "source": [
    "#Import the dataset   \n",
    "train = pd.read_csv('train_data.csv') \n",
    "test = pd.read_csv('test.csv') "
   ]
  },
  {
   "cell_type": "markdown",
   "id": "dc93d480",
   "metadata": {},
   "source": [
    "<h3>3. Deal With Missing Data</h3>"
   ]
  },
  {
   "cell_type": "markdown",
   "id": "d45ada5a",
   "metadata": {},
   "source": [
    "<p>Columns with too much missing data will be difficult to work with. For this case we will remove columns with more than 15% missing data.</p>"
   ]
  },
  {
   "cell_type": "code",
   "execution_count": 3,
   "id": "464aec10",
   "metadata": {},
   "outputs": [],
   "source": [
    "to_drop = ['Id']\n",
    "for col in train:\n",
    "    if train[col].isnull().sum() >= train.shape[0]*.15:\n",
    "        to_drop.append(col)\n",
    "train.drop(columns=to_drop, inplace=True)\n",
    "test.drop(columns=to_drop, inplace=True)"
   ]
  },
  {
   "cell_type": "code",
   "execution_count": 4,
   "id": "b0adec69",
   "metadata": {},
   "outputs": [
    {
     "data": {
      "text/plain": [
       "['Id', 'LotFrontage', 'Alley', 'FireplaceQu', 'PoolQC', 'Fence', 'MiscFeature']"
      ]
     },
     "execution_count": 4,
     "metadata": {},
     "output_type": "execute_result"
    }
   ],
   "source": [
    "to_drop"
   ]
  },
  {
   "cell_type": "markdown",
   "id": "5a905f0e",
   "metadata": {},
   "source": [
    "Columns dropped due to having 15% Null data : \n",
    "\n",
    "['LotFrontage', 'Alley', 'FireplaceQu', 'PoolQC', 'Fence', 'MiscFeature']"
   ]
  },
  {
   "cell_type": "markdown",
   "id": "0d381c97",
   "metadata": {},
   "source": [
    "<h3>4. Encode Data</h3>"
   ]
  },
  {
   "cell_type": "code",
   "execution_count": 5,
   "id": "57310a8f",
   "metadata": {},
   "outputs": [],
   "source": [
    "def encode(df):\n",
    "    to_encode = []\n",
    "    for col in df:\n",
    "        if df[col].dtypes != 'int64' and df[col].dtypes != 'float64':\n",
    "            to_encode.append(col)\n",
    "    for col in to_encode:\n",
    "        le = LabelEncoder()\n",
    "        df[col] = le.fit_transform(df[col])\n",
    "    return df"
   ]
  },
  {
   "cell_type": "code",
   "execution_count": 6,
   "id": "976fbd80",
   "metadata": {},
   "outputs": [],
   "source": [
    "train = encode(train)\n",
    "test = encode(test)"
   ]
  },
  {
   "cell_type": "code",
   "execution_count": 7,
   "id": "d0ab61ce",
   "metadata": {},
   "outputs": [],
   "source": [
    "train[\"SalePrice\"] = np.log(train[\"SalePrice\"])"
   ]
  },
  {
   "cell_type": "code",
   "execution_count": 8,
   "id": "f0159615",
   "metadata": {},
   "outputs": [
    {
     "data": {
      "text/html": [
       "<style  type=\"text/css\" >\n",
       "#T_fcbd3_row0_col0{\n",
       "            background-color:  #b40426;\n",
       "            color:  #f1f1f1;\n",
       "        }#T_fcbd3_row1_col0{\n",
       "            background-color:  #3b4cc0;\n",
       "            color:  #f1f1f1;\n",
       "        }</style><table id=\"T_fcbd3_\" ><thead>    <tr>        <th class=\"blank level0\" ></th>        <th class=\"col_heading level0 col0\" >SalePrice</th>    </tr></thead><tbody>\n",
       "                <tr>\n",
       "                        <th id=\"T_fcbd3_level0_row0\" class=\"row_heading level0 row0\" >OverallQual</th>\n",
       "                        <td id=\"T_fcbd3_row0_col0\" class=\"data row0 col0\" >0.817184</td>\n",
       "            </tr>\n",
       "            <tr>\n",
       "                        <th id=\"T_fcbd3_level0_row1\" class=\"row_heading level0 row1\" >GrLivArea</th>\n",
       "                        <td id=\"T_fcbd3_row1_col0\" class=\"data row1 col0\" >0.700927</td>\n",
       "            </tr>\n",
       "    </tbody></table>"
      ],
      "text/plain": [
       "<pandas.io.formats.style.Styler at 0x17dbb04f910>"
      ]
     },
     "execution_count": 8,
     "metadata": {},
     "output_type": "execute_result"
    }
   ],
   "source": [
    "corrs = train.corr()\n",
    "corrs2 = corrs[\"SalePrice\"]\n",
    "neg_corrs = corrs2[corrs2<0]\n",
    "for i in neg_corrs.index:\n",
    "    test[i] = 1-test[i]\n",
    "    train[i] = 1-train[i]\n",
    "corrs = train.corr()\n",
    "corrs3 = corrs[\"SalePrice\"][corrs[\"SalePrice\"]>.69].sort_values(ascending=False)\n",
    "corrs3.drop(index=['SalePrice'], inplace = True)\n",
    "corrs3 = corrs3.to_frame()\n",
    "corrs3.style.background_gradient(cmap='coolwarm')\n"
   ]
  },
  {
   "cell_type": "markdown",
   "id": "9d1bdd15",
   "metadata": {},
   "source": [
    "<h3>5. Normalize Data</h3>"
   ]
  },
  {
   "cell_type": "markdown",
   "id": "746cfef0",
   "metadata": {},
   "source": [
    "After removing columns we will work with the data to impute values using Ks Nearest Neighbor"
   ]
  },
  {
   "cell_type": "code",
   "execution_count": 9,
   "id": "ec2bc349",
   "metadata": {},
   "outputs": [],
   "source": [
    "good =corrs3.index"
   ]
  },
  {
   "cell_type": "code",
   "execution_count": 10,
   "id": "69742e45",
   "metadata": {},
   "outputs": [],
   "source": [
    "imputer = SimpleImputer()\n",
    "train_filled = imputer.fit_transform(train[good])"
   ]
  },
  {
   "cell_type": "code",
   "execution_count": 11,
   "id": "96d0740b",
   "metadata": {},
   "outputs": [],
   "source": [
    "train_filled_df = pd.DataFrame(train_filled, columns=good)"
   ]
  },
  {
   "cell_type": "code",
   "execution_count": 12,
   "id": "78b982d5",
   "metadata": {},
   "outputs": [],
   "source": [
    "for col in train_filled_df:\n",
    "    train[col] = train_filled_df[col]"
   ]
  },
  {
   "cell_type": "code",
   "execution_count": 13,
   "id": "657fdc31",
   "metadata": {
    "scrolled": true
   },
   "outputs": [],
   "source": [
    "y = train['SalePrice']"
   ]
  },
  {
   "cell_type": "markdown",
   "id": "ab55fceb",
   "metadata": {},
   "source": [
    "<h3>6. Visualize Data</h3>"
   ]
  },
  {
   "cell_type": "code",
   "execution_count": 14,
   "id": "5f59dbdb",
   "metadata": {},
   "outputs": [
    {
     "data": {
      "image/png": "[encoded data removed]",
      "text/plain": [
       "<Figure size 1080x1080 with 2 Axes>"
      ]
     },
     "metadata": {
      "needs_background": "light"
     },
     "output_type": "display_data"
    }
   ],
   "source": [
    "fig = plt.figure(figsize = (15,15))\n",
    "i=1\n",
    "for row in good:\n",
    "    fig.add_subplot(3,3,i)\n",
    "    plt.scatter(x = train[row], y = train['SalePrice'], color = \"red\", edgecolor = 'k')\n",
    "    plt.xlabel(row)\n",
    "    plt.ylabel(\"SalePrice\")\n",
    "    i+=1\n"
   ]
  },
  {
   "cell_type": "code",
   "execution_count": 15,
   "id": "c6adc6c0",
   "metadata": {},
   "outputs": [
    {
     "data": {
      "image/png": "[encoded data removed]",
      "text/plain": [
       "<Figure size 1080x1080 with 2 Axes>"
      ]
     },
     "metadata": {
      "needs_background": "light"
     },
     "output_type": "display_data"
    },
    {
     "data": {
      "text/plain": [
       "<Figure size 1080x1080 with 0 Axes>"
      ]
     },
     "metadata": {},
     "output_type": "display_data"
    }
   ],
   "source": [
    "fig = plt.figure(figsize = (15,15))\n",
    "i=1\n",
    "for row in good:\n",
    "    fig.add_subplot(3,3,i)\n",
    "    plt.scatter(x = train[row], y = train['SalePrice'], color = \"red\", edgecolor = 'k')\n",
    "    plt.xlabel(row)\n",
    "    plt.ylabel(\"SalePrice\")\n",
    "    i+=1\n",
    "fig = plt.figure(figsize = (15,15))"
   ]
  },
  {
   "cell_type": "code",
   "execution_count": 16,
   "id": "a2ffd214",
   "metadata": {},
   "outputs": [
    {
     "data": {
      "image/png": "[encoded data removed]",
      "text/plain": [
       "<Figure size 1080x1080 with 2 Axes>"
      ]
     },
     "metadata": {
      "needs_background": "light"
     },
     "output_type": "display_data"
    }
   ],
   "source": [
    "fig = plt.figure(figsize = (15,15))\n",
    "i=1\n",
    "for row in good:\n",
    "    fig.add_subplot(3,3,i)\n",
    "    plt.hist(x = train[row], color = \"red\", edgecolor = 'k')\n",
    "    plt.xlabel(row)\n",
    "    plt.ylabel(\"Frequency\")\n",
    "    i+=1\n"
   ]
  },
  {
   "cell_type": "code",
   "execution_count": 17,
   "id": "039cd3f3",
   "metadata": {},
   "outputs": [
    {
     "data": {
      "text/html": [
       "<div>\n",
       "<style scoped>\n",
       "    .dataframe tbody tr th:only-of-type {\n",
       "        vertical-align: middle;\n",
       "    }\n",
       "\n",
       "    .dataframe tbody tr th {\n",
       "        vertical-align: top;\n",
       "    }\n",
       "\n",
       "    .dataframe thead th {\n",
       "        text-align: right;\n",
       "    }\n",
       "</style>\n",
       "<table border=\"1\" class=\"dataframe\">\n",
       "  <thead>\n",
       "    <tr style=\"text-align: right;\">\n",
       "      <th></th>\n",
       "      <th>MSSubClass</th>\n",
       "      <th>MSZoning</th>\n",
       "      <th>LotArea</th>\n",
       "      <th>Street</th>\n",
       "      <th>LotShape</th>\n",
       "      <th>LandContour</th>\n",
       "      <th>Utilities</th>\n",
       "      <th>LotConfig</th>\n",
       "      <th>LandSlope</th>\n",
       "      <th>Neighborhood</th>\n",
       "      <th>...</th>\n",
       "      <th>EnclosedPorch</th>\n",
       "      <th>3SsnPorch</th>\n",
       "      <th>ScreenPorch</th>\n",
       "      <th>PoolArea</th>\n",
       "      <th>MiscVal</th>\n",
       "      <th>MoSold</th>\n",
       "      <th>YrSold</th>\n",
       "      <th>SaleType</th>\n",
       "      <th>SaleCondition</th>\n",
       "      <th>SalePrice</th>\n",
       "    </tr>\n",
       "  </thead>\n",
       "  <tbody>\n",
       "    <tr>\n",
       "      <th>mean</th>\n",
       "      <td>-55.897260</td>\n",
       "      <td>-2.028767</td>\n",
       "      <td>10516.828082</td>\n",
       "      <td>0.995890</td>\n",
       "      <td>-0.942466</td>\n",
       "      <td>2.777397</td>\n",
       "      <td>0.999315</td>\n",
       "      <td>-2.019178</td>\n",
       "      <td>0.062329</td>\n",
       "      <td>12.251370</td>\n",
       "      <td>...</td>\n",
       "      <td>-20.954110</td>\n",
       "      <td>3.409589</td>\n",
       "      <td>15.060959</td>\n",
       "      <td>2.758904</td>\n",
       "      <td>-42.489041</td>\n",
       "      <td>6.321918</td>\n",
       "      <td>-2006.815753</td>\n",
       "      <td>-6.513014</td>\n",
       "      <td>3.770548</td>\n",
       "      <td>12.024051</td>\n",
       "    </tr>\n",
       "    <tr>\n",
       "      <th>std</th>\n",
       "      <td>42.300571</td>\n",
       "      <td>0.632017</td>\n",
       "      <td>9981.264932</td>\n",
       "      <td>0.063996</td>\n",
       "      <td>1.409156</td>\n",
       "      <td>0.707666</td>\n",
       "      <td>0.026171</td>\n",
       "      <td>1.622634</td>\n",
       "      <td>0.276232</td>\n",
       "      <td>6.013735</td>\n",
       "      <td>...</td>\n",
       "      <td>61.119149</td>\n",
       "      <td>29.317331</td>\n",
       "      <td>55.757415</td>\n",
       "      <td>40.177307</td>\n",
       "      <td>496.123024</td>\n",
       "      <td>2.703626</td>\n",
       "      <td>1.328095</td>\n",
       "      <td>1.552100</td>\n",
       "      <td>1.100854</td>\n",
       "      <td>0.399452</td>\n",
       "    </tr>\n",
       "    <tr>\n",
       "      <th>min</th>\n",
       "      <td>-189.000000</td>\n",
       "      <td>-3.000000</td>\n",
       "      <td>1300.000000</td>\n",
       "      <td>0.000000</td>\n",
       "      <td>-2.000000</td>\n",
       "      <td>0.000000</td>\n",
       "      <td>0.000000</td>\n",
       "      <td>-3.000000</td>\n",
       "      <td>0.000000</td>\n",
       "      <td>0.000000</td>\n",
       "      <td>...</td>\n",
       "      <td>-551.000000</td>\n",
       "      <td>0.000000</td>\n",
       "      <td>0.000000</td>\n",
       "      <td>0.000000</td>\n",
       "      <td>-15499.000000</td>\n",
       "      <td>1.000000</td>\n",
       "      <td>-2009.000000</td>\n",
       "      <td>-7.000000</td>\n",
       "      <td>0.000000</td>\n",
       "      <td>10.460242</td>\n",
       "    </tr>\n",
       "    <tr>\n",
       "      <th>25%</th>\n",
       "      <td>-69.000000</td>\n",
       "      <td>-2.000000</td>\n",
       "      <td>7553.500000</td>\n",
       "      <td>1.000000</td>\n",
       "      <td>-2.000000</td>\n",
       "      <td>3.000000</td>\n",
       "      <td>1.000000</td>\n",
       "      <td>-3.000000</td>\n",
       "      <td>0.000000</td>\n",
       "      <td>7.000000</td>\n",
       "      <td>...</td>\n",
       "      <td>1.000000</td>\n",
       "      <td>0.000000</td>\n",
       "      <td>0.000000</td>\n",
       "      <td>0.000000</td>\n",
       "      <td>1.000000</td>\n",
       "      <td>5.000000</td>\n",
       "      <td>-2008.000000</td>\n",
       "      <td>-7.000000</td>\n",
       "      <td>4.000000</td>\n",
       "      <td>11.775097</td>\n",
       "    </tr>\n",
       "    <tr>\n",
       "      <th>50%</th>\n",
       "      <td>-49.000000</td>\n",
       "      <td>-2.000000</td>\n",
       "      <td>9478.500000</td>\n",
       "      <td>1.000000</td>\n",
       "      <td>-2.000000</td>\n",
       "      <td>3.000000</td>\n",
       "      <td>1.000000</td>\n",
       "      <td>-3.000000</td>\n",
       "      <td>0.000000</td>\n",
       "      <td>12.000000</td>\n",
       "      <td>...</td>\n",
       "      <td>1.000000</td>\n",
       "      <td>0.000000</td>\n",
       "      <td>0.000000</td>\n",
       "      <td>0.000000</td>\n",
       "      <td>1.000000</td>\n",
       "      <td>6.000000</td>\n",
       "      <td>-2007.000000</td>\n",
       "      <td>-7.000000</td>\n",
       "      <td>4.000000</td>\n",
       "      <td>12.001505</td>\n",
       "    </tr>\n",
       "    <tr>\n",
       "      <th>75%</th>\n",
       "      <td>-19.000000</td>\n",
       "      <td>-2.000000</td>\n",
       "      <td>11601.500000</td>\n",
       "      <td>1.000000</td>\n",
       "      <td>1.000000</td>\n",
       "      <td>3.000000</td>\n",
       "      <td>1.000000</td>\n",
       "      <td>-1.000000</td>\n",
       "      <td>0.000000</td>\n",
       "      <td>17.000000</td>\n",
       "      <td>...</td>\n",
       "      <td>1.000000</td>\n",
       "      <td>0.000000</td>\n",
       "      <td>0.000000</td>\n",
       "      <td>0.000000</td>\n",
       "      <td>1.000000</td>\n",
       "      <td>8.000000</td>\n",
       "      <td>-2006.000000</td>\n",
       "      <td>-7.000000</td>\n",
       "      <td>4.000000</td>\n",
       "      <td>12.273731</td>\n",
       "    </tr>\n",
       "    <tr>\n",
       "      <th>max</th>\n",
       "      <td>-19.000000</td>\n",
       "      <td>1.000000</td>\n",
       "      <td>215245.000000</td>\n",
       "      <td>1.000000</td>\n",
       "      <td>1.000000</td>\n",
       "      <td>3.000000</td>\n",
       "      <td>1.000000</td>\n",
       "      <td>1.000000</td>\n",
       "      <td>2.000000</td>\n",
       "      <td>24.000000</td>\n",
       "      <td>...</td>\n",
       "      <td>1.000000</td>\n",
       "      <td>508.000000</td>\n",
       "      <td>480.000000</td>\n",
       "      <td>738.000000</td>\n",
       "      <td>1.000000</td>\n",
       "      <td>12.000000</td>\n",
       "      <td>-2005.000000</td>\n",
       "      <td>1.000000</td>\n",
       "      <td>5.000000</td>\n",
       "      <td>13.534473</td>\n",
       "    </tr>\n",
       "  </tbody>\n",
       "</table>\n",
       "<p>7 rows × 74 columns</p>\n",
       "</div>"
      ],
      "text/plain": [
       "      MSSubClass  MSZoning        LotArea    Street  LotShape  LandContour  \\\n",
       "mean  -55.897260 -2.028767   10516.828082  0.995890 -0.942466     2.777397   \n",
       "std    42.300571  0.632017    9981.264932  0.063996  1.409156     0.707666   \n",
       "min  -189.000000 -3.000000    1300.000000  0.000000 -2.000000     0.000000   \n",
       "25%   -69.000000 -2.000000    7553.500000  1.000000 -2.000000     3.000000   \n",
       "50%   -49.000000 -2.000000    9478.500000  1.000000 -2.000000     3.000000   \n",
       "75%   -19.000000 -2.000000   11601.500000  1.000000  1.000000     3.000000   \n",
       "max   -19.000000  1.000000  215245.000000  1.000000  1.000000     3.000000   \n",
       "\n",
       "      Utilities  LotConfig  LandSlope  Neighborhood  ...  EnclosedPorch  \\\n",
       "mean   0.999315  -2.019178   0.062329     12.251370  ...     -20.954110   \n",
       "std    0.026171   1.622634   0.276232      6.013735  ...      61.119149   \n",
       "min    0.000000  -3.000000   0.000000      0.000000  ...    -551.000000   \n",
       "25%    1.000000  -3.000000   0.000000      7.000000  ...       1.000000   \n",
       "50%    1.000000  -3.000000   0.000000     12.000000  ...       1.000000   \n",
       "75%    1.000000  -1.000000   0.000000     17.000000  ...       1.000000   \n",
       "max    1.000000   1.000000   2.000000     24.000000  ...       1.000000   \n",
       "\n",
       "       3SsnPorch  ScreenPorch    PoolArea       MiscVal     MoSold  \\\n",
       "mean    3.409589    15.060959    2.758904    -42.489041   6.321918   \n",
       "std    29.317331    55.757415   40.177307    496.123024   2.703626   \n",
       "min     0.000000     0.000000    0.000000 -15499.000000   1.000000   \n",
       "25%     0.000000     0.000000    0.000000      1.000000   5.000000   \n",
       "50%     0.000000     0.000000    0.000000      1.000000   6.000000   \n",
       "75%     0.000000     0.000000    0.000000      1.000000   8.000000   \n",
       "max   508.000000   480.000000  738.000000      1.000000  12.000000   \n",
       "\n",
       "           YrSold  SaleType  SaleCondition  SalePrice  \n",
       "mean -2006.815753 -6.513014       3.770548  12.024051  \n",
       "std      1.328095  1.552100       1.100854   0.399452  \n",
       "min  -2009.000000 -7.000000       0.000000  10.460242  \n",
       "25%  -2008.000000 -7.000000       4.000000  11.775097  \n",
       "50%  -2007.000000 -7.000000       4.000000  12.001505  \n",
       "75%  -2006.000000 -7.000000       4.000000  12.273731  \n",
       "max  -2005.000000  1.000000       5.000000  13.534473  \n",
       "\n",
       "[7 rows x 74 columns]"
      ]
     },
     "execution_count": 17,
     "metadata": {},
     "output_type": "execute_result"
    }
   ],
   "source": [
    "stats = train.describe()\n",
    "stats.drop(index=['count'],inplace = True)\n",
    "stats"
   ]
  },
  {
   "cell_type": "markdown",
   "id": "0db63095",
   "metadata": {},
   "source": [
    "<h3>7. Machine Learning: Linear Regression</h3>"
   ]
  },
  {
   "cell_type": "code",
   "execution_count": 18,
   "id": "26719684",
   "metadata": {},
   "outputs": [],
   "source": [
    "x = train[good]\n",
    "X_train,X_test,y_train,y_test = train_test_split(x.values,y.values,test_size=0.1)"
   ]
  },
  {
   "cell_type": "code",
   "execution_count": 19,
   "id": "6f9cc455",
   "metadata": {},
   "outputs": [
    {
     "data": {
      "text/plain": [
       "array([12.07767093, 12.99453001, 12.26904744, ..., 12.2869012 ,\n",
       "       11.91371298, 11.84510278])"
      ]
     },
     "execution_count": 19,
     "metadata": {},
     "output_type": "execute_result"
    }
   ],
   "source": [
    "y_train"
   ]
  },
  {
   "cell_type": "code",
   "execution_count": 20,
   "id": "74e9bdf1",
   "metadata": {},
   "outputs": [
    {
     "data": {
      "text/plain": [
       "LinearRegression()"
      ]
     },
     "execution_count": 20,
     "metadata": {},
     "output_type": "execute_result"
    }
   ],
   "source": [
    "regressor = LinearRegression()  \n",
    "regressor.fit(X_train, y_train)"
   ]
  },
  {
   "cell_type": "code",
   "execution_count": 21,
   "id": "58190dec",
   "metadata": {},
   "outputs": [],
   "source": [
    "y_pred = regressor.predict(X_test)"
   ]
  },
  {
   "cell_type": "code",
   "execution_count": 22,
   "id": "4a265694",
   "metadata": {},
   "outputs": [
    {
     "data": {
      "text/plain": [
       "0.7703601980790665"
      ]
     },
     "execution_count": 22,
     "metadata": {},
     "output_type": "execute_result"
    }
   ],
   "source": [
    "model_acc_train = explained_variance_score(y_test, y_pred)\n",
    "model_acc_train"
   ]
  },
  {
   "cell_type": "code",
   "execution_count": 23,
   "id": "80c6ff2e",
   "metadata": {},
   "outputs": [
    {
     "data": {
      "text/plain": [
       "0.18951090440992965"
      ]
     },
     "execution_count": 23,
     "metadata": {},
     "output_type": "execute_result"
    }
   ],
   "source": [
    "model_rmse_train = mean_squared_error(y_test, y_pred, squared=False)\n",
    "model_rmse_train"
   ]
  },
  {
   "cell_type": "markdown",
   "id": "4202d8bc",
   "metadata": {},
   "source": [
    "<h3> Visualize Accuracy</h3>"
   ]
  },
  {
   "cell_type": "code",
   "execution_count": 24,
   "id": "440545e7",
   "metadata": {},
   "outputs": [],
   "source": [
    "df = pd.DataFrame({'Actual': y_test, 'Predicted': y_pred})"
   ]
  },
  {
   "cell_type": "code",
   "execution_count": 25,
   "id": "33e6d27a",
   "metadata": {},
   "outputs": [
    {
     "data": {
      "text/html": [
       "<div>\n",
       "<style scoped>\n",
       "    .dataframe tbody tr th:only-of-type {\n",
       "        vertical-align: middle;\n",
       "    }\n",
       "\n",
       "    .dataframe tbody tr th {\n",
       "        vertical-align: top;\n",
       "    }\n",
       "\n",
       "    .dataframe thead th {\n",
       "        text-align: right;\n",
       "    }\n",
       "</style>\n",
       "<table border=\"1\" class=\"dataframe\">\n",
       "  <thead>\n",
       "    <tr style=\"text-align: right;\">\n",
       "      <th></th>\n",
       "      <th>Actual</th>\n",
       "      <th>Predicted</th>\n",
       "      <th>Diff</th>\n",
       "    </tr>\n",
       "  </thead>\n",
       "  <tbody>\n",
       "    <tr>\n",
       "      <th>0</th>\n",
       "      <td>12.567237</td>\n",
       "      <td>12.715978</td>\n",
       "      <td>-0.148741</td>\n",
       "    </tr>\n",
       "    <tr>\n",
       "      <th>1</th>\n",
       "      <td>11.744037</td>\n",
       "      <td>11.886095</td>\n",
       "      <td>-0.142058</td>\n",
       "    </tr>\n",
       "    <tr>\n",
       "      <th>2</th>\n",
       "      <td>11.951180</td>\n",
       "      <td>12.090087</td>\n",
       "      <td>-0.138906</td>\n",
       "    </tr>\n",
       "    <tr>\n",
       "      <th>3</th>\n",
       "      <td>11.763684</td>\n",
       "      <td>11.662797</td>\n",
       "      <td>0.100887</td>\n",
       "    </tr>\n",
       "    <tr>\n",
       "      <th>4</th>\n",
       "      <td>12.043554</td>\n",
       "      <td>11.897645</td>\n",
       "      <td>0.145909</td>\n",
       "    </tr>\n",
       "    <tr>\n",
       "      <th>5</th>\n",
       "      <td>12.195517</td>\n",
       "      <td>12.060570</td>\n",
       "      <td>0.134947</td>\n",
       "    </tr>\n",
       "    <tr>\n",
       "      <th>6</th>\n",
       "      <td>12.669807</td>\n",
       "      <td>12.417221</td>\n",
       "      <td>0.252586</td>\n",
       "    </tr>\n",
       "    <tr>\n",
       "      <th>7</th>\n",
       "      <td>11.575900</td>\n",
       "      <td>11.667417</td>\n",
       "      <td>-0.091517</td>\n",
       "    </tr>\n",
       "    <tr>\n",
       "      <th>8</th>\n",
       "      <td>11.619535</td>\n",
       "      <td>11.485755</td>\n",
       "      <td>0.133780</td>\n",
       "    </tr>\n",
       "    <tr>\n",
       "      <th>9</th>\n",
       "      <td>12.013640</td>\n",
       "      <td>12.131353</td>\n",
       "      <td>-0.117713</td>\n",
       "    </tr>\n",
       "    <tr>\n",
       "      <th>10</th>\n",
       "      <td>12.167851</td>\n",
       "      <td>12.194236</td>\n",
       "      <td>-0.026385</td>\n",
       "    </tr>\n",
       "    <tr>\n",
       "      <th>11</th>\n",
       "      <td>12.089539</td>\n",
       "      <td>12.106200</td>\n",
       "      <td>-0.016661</td>\n",
       "    </tr>\n",
       "    <tr>\n",
       "      <th>12</th>\n",
       "      <td>11.104957</td>\n",
       "      <td>11.731327</td>\n",
       "      <td>-0.626369</td>\n",
       "    </tr>\n",
       "    <tr>\n",
       "      <th>13</th>\n",
       "      <td>11.979799</td>\n",
       "      <td>12.450644</td>\n",
       "      <td>-0.470845</td>\n",
       "    </tr>\n",
       "    <tr>\n",
       "      <th>14</th>\n",
       "      <td>12.449019</td>\n",
       "      <td>12.482670</td>\n",
       "      <td>-0.033651</td>\n",
       "    </tr>\n",
       "    <tr>\n",
       "      <th>15</th>\n",
       "      <td>12.208570</td>\n",
       "      <td>12.233106</td>\n",
       "      <td>-0.024536</td>\n",
       "    </tr>\n",
       "    <tr>\n",
       "      <th>16</th>\n",
       "      <td>11.877569</td>\n",
       "      <td>11.889119</td>\n",
       "      <td>-0.011550</td>\n",
       "    </tr>\n",
       "    <tr>\n",
       "      <th>17</th>\n",
       "      <td>12.058153</td>\n",
       "      <td>12.118007</td>\n",
       "      <td>-0.059854</td>\n",
       "    </tr>\n",
       "    <tr>\n",
       "      <th>18</th>\n",
       "      <td>12.264342</td>\n",
       "      <td>12.221442</td>\n",
       "      <td>0.042899</td>\n",
       "    </tr>\n",
       "    <tr>\n",
       "      <th>19</th>\n",
       "      <td>12.013701</td>\n",
       "      <td>11.796006</td>\n",
       "      <td>0.217695</td>\n",
       "    </tr>\n",
       "    <tr>\n",
       "      <th>20</th>\n",
       "      <td>12.235389</td>\n",
       "      <td>12.222469</td>\n",
       "      <td>0.012920</td>\n",
       "    </tr>\n",
       "    <tr>\n",
       "      <th>21</th>\n",
       "      <td>12.450978</td>\n",
       "      <td>12.412857</td>\n",
       "      <td>0.038120</td>\n",
       "    </tr>\n",
       "    <tr>\n",
       "      <th>22</th>\n",
       "      <td>11.635143</td>\n",
       "      <td>11.436476</td>\n",
       "      <td>0.198667</td>\n",
       "    </tr>\n",
       "    <tr>\n",
       "      <th>23</th>\n",
       "      <td>12.132157</td>\n",
       "      <td>12.000254</td>\n",
       "      <td>0.131903</td>\n",
       "    </tr>\n",
       "    <tr>\n",
       "      <th>24</th>\n",
       "      <td>12.175613</td>\n",
       "      <td>12.108253</td>\n",
       "      <td>0.067360</td>\n",
       "    </tr>\n",
       "  </tbody>\n",
       "</table>\n",
       "</div>"
      ],
      "text/plain": [
       "       Actual  Predicted      Diff\n",
       "0   12.567237  12.715978 -0.148741\n",
       "1   11.744037  11.886095 -0.142058\n",
       "2   11.951180  12.090087 -0.138906\n",
       "3   11.763684  11.662797  0.100887\n",
       "4   12.043554  11.897645  0.145909\n",
       "5   12.195517  12.060570  0.134947\n",
       "6   12.669807  12.417221  0.252586\n",
       "7   11.575900  11.667417 -0.091517\n",
       "8   11.619535  11.485755  0.133780\n",
       "9   12.013640  12.131353 -0.117713\n",
       "10  12.167851  12.194236 -0.026385\n",
       "11  12.089539  12.106200 -0.016661\n",
       "12  11.104957  11.731327 -0.626369\n",
       "13  11.979799  12.450644 -0.470845\n",
       "14  12.449019  12.482670 -0.033651\n",
       "15  12.208570  12.233106 -0.024536\n",
       "16  11.877569  11.889119 -0.011550\n",
       "17  12.058153  12.118007 -0.059854\n",
       "18  12.264342  12.221442  0.042899\n",
       "19  12.013701  11.796006  0.217695\n",
       "20  12.235389  12.222469  0.012920\n",
       "21  12.450978  12.412857  0.038120\n",
       "22  11.635143  11.436476  0.198667\n",
       "23  12.132157  12.000254  0.131903\n",
       "24  12.175613  12.108253  0.067360"
      ]
     },
     "execution_count": 25,
     "metadata": {},
     "output_type": "execute_result"
    }
   ],
   "source": [
    "df['Diff'] = df['Actual']- df['Predicted']\n",
    "df1 = df.head(25)\n",
    "df1"
   ]
  },
  {
   "cell_type": "code",
   "execution_count": 26,
   "id": "d61bdbeb",
   "metadata": {},
   "outputs": [
    {
     "data": {
      "image/png": "[encoded data removed]",
      "text/plain": [
       "<Figure size 720x720 with 1 Axes>"
      ]
     },
     "metadata": {
      "needs_background": "light"
     },
     "output_type": "display_data"
    }
   ],
   "source": [
    "df1.plot(kind='bar',figsize=(10,10))\n",
    "plt.grid(which='major', linestyle='-', linewidth='0.5', color='green')\n",
    "plt.grid(which='minor', linestyle=':', linewidth='0.5', color='black')\n",
    "plt.show()"
   ]
  },
  {
   "cell_type": "code",
   "execution_count": 27,
   "id": "5e0fc751",
   "metadata": {},
   "outputs": [],
   "source": [
    "imputer = SimpleImputer()\n",
    "test_filled = imputer.fit_transform(test[good])"
   ]
  },
  {
   "cell_type": "code",
   "execution_count": 28,
   "id": "66499498",
   "metadata": {},
   "outputs": [],
   "source": [
    "test_filled_df = pd.DataFrame(test_filled, columns=good)"
   ]
  },
  {
   "cell_type": "code",
   "execution_count": 29,
   "id": "554b796a",
   "metadata": {},
   "outputs": [],
   "source": [
    "for col in test_filled_df:\n",
    "    test[col] = test_filled_df[col]"
   ]
  },
  {
   "cell_type": "code",
   "execution_count": 30,
   "id": "a3855abf",
   "metadata": {},
   "outputs": [],
   "source": [
    "X_train = train[good]\n",
    "y_train = train['SalePrice']\n",
    "X_test = test[good]"
   ]
  },
  {
   "cell_type": "code",
   "execution_count": 31,
   "id": "42bc8b4e",
   "metadata": {},
   "outputs": [
    {
     "data": {
      "text/plain": [
       "LinearRegression()"
      ]
     },
     "execution_count": 31,
     "metadata": {},
     "output_type": "execute_result"
    }
   ],
   "source": [
    "regressor = LinearRegression()  \n",
    "regressor.fit(X_train, y_train)"
   ]
  },
  {
   "cell_type": "code",
   "execution_count": 32,
   "id": "aaca13e5",
   "metadata": {},
   "outputs": [],
   "source": [
    "y_pred = regressor.predict(X_test)"
   ]
  },
  {
   "cell_type": "code",
   "execution_count": 33,
   "id": "c1523cc8",
   "metadata": {},
   "outputs": [],
   "source": [
    "y_pred =np.e**regressor.predict(test[good])"
   ]
  },
  {
   "cell_type": "code",
   "execution_count": 34,
   "id": "fb152556",
   "metadata": {},
   "outputs": [],
   "source": [
    "y_pred_frame = pd.DataFrame(y_pred)"
   ]
  },
  {
   "cell_type": "code",
   "execution_count": 35,
   "id": "be04cf44",
   "metadata": {
    "scrolled": false
   },
   "outputs": [
    {
     "data": {
      "text/html": [
       "<div>\n",
       "<style scoped>\n",
       "    .dataframe tbody tr th:only-of-type {\n",
       "        vertical-align: middle;\n",
       "    }\n",
       "\n",
       "    .dataframe tbody tr th {\n",
       "        vertical-align: top;\n",
       "    }\n",
       "\n",
       "    .dataframe thead th {\n",
       "        text-align: right;\n",
       "    }\n",
       "</style>\n",
       "<table border=\"1\" class=\"dataframe\">\n",
       "  <thead>\n",
       "    <tr style=\"text-align: right;\">\n",
       "      <th></th>\n",
       "      <th>0</th>\n",
       "    </tr>\n",
       "  </thead>\n",
       "  <tbody>\n",
       "    <tr>\n",
       "      <th>0</th>\n",
       "      <td>117041.727836</td>\n",
       "    </tr>\n",
       "    <tr>\n",
       "      <th>1</th>\n",
       "      <td>156215.326956</td>\n",
       "    </tr>\n",
       "    <tr>\n",
       "      <th>2</th>\n",
       "      <td>140956.308454</td>\n",
       "    </tr>\n",
       "    <tr>\n",
       "      <th>3</th>\n",
       "      <td>167500.587200</td>\n",
       "    </tr>\n",
       "    <tr>\n",
       "      <th>4</th>\n",
       "      <td>220646.696893</td>\n",
       "    </tr>\n",
       "  </tbody>\n",
       "</table>\n",
       "</div>"
      ],
      "text/plain": [
       "               0\n",
       "0  117041.727836\n",
       "1  156215.326956\n",
       "2  140956.308454\n",
       "3  167500.587200\n",
       "4  220646.696893"
      ]
     },
     "execution_count": 35,
     "metadata": {},
     "output_type": "execute_result"
    }
   ],
   "source": [
    "y_pred_frame.head()"
   ]
  },
  {
   "cell_type": "code",
   "execution_count": 36,
   "id": "abbf48bd",
   "metadata": {},
   "outputs": [],
   "source": [
    "y_pred_frame.index = np.arange(1461, len(y_pred_frame)+1461)"
   ]
  },
  {
   "cell_type": "code",
   "execution_count": 37,
   "id": "4b3a3c4d",
   "metadata": {},
   "outputs": [],
   "source": [
    "y_pred_frame.to_csv('submission.csv', sep=',')"
   ]
  }
 ],
 "metadata": {
  "kernelspec": {
   "display_name": "Python 3",
   "language": "python",
   "name": "python3"
  },
  "language_info": {
   "codemirror_mode": {
    "name": "ipython",
    "version": 3
   },
   "file_extension": ".py",
   "mimetype": "text/x-python",
   "name": "python",
   "nbconvert_exporter": "python",
   "pygments_lexer": "ipython3",
   "version": "3.8.8"
  }
 },
 "nbformat": 4,
 "nbformat_minor": 5
}
